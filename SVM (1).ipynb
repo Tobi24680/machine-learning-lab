{
 "cells": [
  {
   "cell_type": "code",
   "execution_count": 6,
   "metadata": {},
   "outputs": [],
   "source": [
    "import numpy as np\n",
    "import matplotlib.pyplot as plt\n",
    "from sklearn import datasets\n",
    "from sklearn.model_selection import train_test_split\n",
    "from sklearn.svm import SVC\n",
    "from sklearn.metrics import accuracy_score,classification_report\n"
   ]
  },
  {
   "cell_type": "code",
   "execution_count": 7,
   "metadata": {},
   "outputs": [],
   "source": [
    "iris=datasets.load_iris()\n",
    "x=iris.data[:,:2]\n",
    "y=iris.target\n",
    "x_train,x_test,y_train,y_test=train_test_split(x,y,test_size=0.3,random_state=42)"
   ]
  },
  {
   "cell_type": "code",
   "execution_count": 8,
   "metadata": {},
   "outputs": [
    {
     "name": "stdout",
     "output_type": "stream",
     "text": [
      "accuracy:0.80\n"
     ]
    }
   ],
   "source": [
    "sc=SVC(kernel='linear')\n",
    "sc.fit(x_train,y_train)\n",
    "ypred=sc.predict(x_test)\n",
    "acc=accuracy_score(y_test,ypred)\n",
    "print(f\"accuracy:{acc:.2f}\")"
   ]
  },
  {
   "cell_type": "code",
   "execution_count": 9,
   "metadata": {},
   "outputs": [
    {
     "name": "stdout",
     "output_type": "stream",
     "text": [
      "classification report               precision    recall  f1-score   support\n",
      "\n",
      "           0       1.00      1.00      1.00        19\n",
      "           1       0.70      0.54      0.61        13\n",
      "           2       0.62      0.77      0.69        13\n",
      "\n",
      "    accuracy                           0.80        45\n",
      "   macro avg       0.78      0.77      0.77        45\n",
      "weighted avg       0.81      0.80      0.80        45\n",
      "\n"
     ]
    }
   ],
   "source": [
    "report=classification_report(y_test,ypred)\n",
    "print(\"classification report\",report)"
   ]
  },
  {
   "cell_type": "code",
   "execution_count": 13,
   "metadata": {},
   "outputs": [],
   "source": [
    "xmin,xmax=x[:,0].min()-1,x[:,0].max()+1\n",
    "ymin,ymax=x[:,0].min()-1,x[:,0].max()+1\n",
    "xx,yy=np.meshgrid(np.arange(xmin,xmax,0.01),np.arange(ymin,ymax,0.01))"
   ]
  },
  {
   "cell_type": "code",
   "execution_count": 26,
   "metadata": {
    "scrolled": true
   },
   "outputs": [
    {
     "data": {
      "image/png": "[encoded data removed]",
      "text/plain": [
       "<Figure size 432x288 with 1 Axes>"
      ]
     },
     "metadata": {
      "needs_background": "light"
     },
     "output_type": "display_data"
    }
   ],
   "source": [
    "z=sc.predict(np.c_[xx.ravel(),yy.ravel()])\n",
    "z=z.reshape(xx.shape)\n",
    "plt.contourf(xx,yy,z,cmap=plt.cm.RdYlBu,alpha=0.6)\n",
    "plt.scatter(x[:,0],x[:,1],c=y,cmap=plt.cm.RdYlBu)\n",
    "plt.xlabel('sepel')\n",
    "plt.ylabel(\"petal\")\n",
    "plt.title(\"svm classification\")\n",
    "plt.show()"
   ]
  },
  {
   "cell_type": "code",
   "execution_count": 27,
   "metadata": {},
   "outputs": [
    {
     "name": "stdout",
     "output_type": "stream",
     "text": [
      "[[3.3  3.31 3.32 ... 8.87 8.88 8.89]\n",
      " [3.3  3.31 3.32 ... 8.87 8.88 8.89]\n",
      " [3.3  3.31 3.32 ... 8.87 8.88 8.89]\n",
      " ...\n",
      " [3.3  3.31 3.32 ... 8.87 8.88 8.89]\n",
      " [3.3  3.31 3.32 ... 8.87 8.88 8.89]\n",
      " [3.3  3.31 3.32 ... 8.87 8.88 8.89]]\n"
     ]
    }
   ],
   "source": [
    "print(xx)"
   ]
  },
  {
   "cell_type": "code",
   "execution_count": null,
   "metadata": {},
   "outputs": [],
   "source": []
  }
 ],
 "metadata": {
  "kernelspec": {
   "display_name": "Python 3",
   "language": "python",
   "name": "python3"
  },
  "language_info": {
   "codemirror_mode": {
    "name": "ipython",
    "version": 3
   },
   "file_extension": ".py",
   "mimetype": "text/x-python",
   "name": "python",
   "nbconvert_exporter": "python",
   "pygments_lexer": "ipython3",
   "version": "3.8.5"
  }
 },
 "nbformat": 4,
 "nbformat_minor": 4
}
