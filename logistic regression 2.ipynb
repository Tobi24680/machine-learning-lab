{
 "cells": [
  {
   "cell_type": "code",
   "execution_count": 5,
   "metadata": {},
   "outputs": [
    {
     "name": "stdout",
     "output_type": "stream",
     "text": [
      "Classification Report:\n",
      "              precision    recall  f1-score   support\n",
      "\n",
      "           0       0.82      0.90      0.86       157\n",
      "           1       0.73      0.58      0.65        74\n",
      "\n",
      "    accuracy                           0.80       231\n",
      "   macro avg       0.77      0.74      0.75       231\n",
      "weighted avg       0.79      0.80      0.79       231\n",
      "\n",
      "Confusion Matrix:\n",
      "[[141  16]\n",
      " [ 31  43]]\n"
     ]
    }
   ],
   "source": [
    "import pandas as pd\n",
    "import numpy as np\n",
    "import matplotlib.pyplot as plt\n",
    "import seaborn as  sns\n",
    "from sklearn.linear_model import LogisticRegression\n",
    "from sklearn.model_selection import train_test_split\n",
    "from sklearn.metrics import classification_report,confusion_matrix\n",
    "\n",
    "a=pd.read_csv(\"E:/2336120046/datasets/diabetes.csv\")\n",
    "x=a.drop(\"Outcome\",axis=1)\n",
    "y=a['Outcome']\n",
    "m = LogisticRegression(max_iter=1000)  # Increased max_iter for convergence\n",
    "m.fit(x_train, y_train)\n",
    "x_train,x_test,y_train,y_test=train_test_split(x,y,test_size=0.3)\n",
    "p = m.predict(x_test)\n",
    "print(\"Classification Report:\")\n",
    "print(classification_report(y_test, p))\n",
    "print(\"Confusion Matrix:\")\n",
    "print(confusion_matrix(y_test, p))"
   ]
  },
  {
   "cell_type": "code",
   "execution_count": null,
   "metadata": {},
   "outputs": [],
   "source": []
  }
 ],
 "metadata": {
  "kernelspec": {
   "display_name": "Python 3",
   "language": "python",
   "name": "python3"
  },
  "language_info": {
   "codemirror_mode": {
    "name": "ipython",
    "version": 3
   },
   "file_extension": ".py",
   "mimetype": "text/x-python",
   "name": "python",
   "nbconvert_exporter": "python",
   "pygments_lexer": "ipython3",
   "version": "3.8.5"
  }
 },
 "nbformat": 4,
 "nbformat_minor": 4
}
